{
  "nbformat": 4,
  "nbformat_minor": 0,
  "metadata": {
    "colab": {
      "provenance": []
    },
    "kernelspec": {
      "name": "python3",
      "display_name": "Python 3"
    },
    "language_info": {
      "name": "python"
    }
  },
  "cells": [
    {
      "cell_type": "code",
      "source": [
        "# Installa yt-dlp e ffmpeg in Google Colab\n",
        "!pip install yt-dlp  # Installa la libreria yt-dlp per il download di video e audio\n",
        "!apt-get install ffmpeg  # Installa ffmpeg, necessario per la manipolazione audio/video\n",
        "\n",
        "import os  # Importa il modulo os per operazioni di sistema\n",
        "import yt_dlp  # Importa la libreria yt_dlp per il download\n",
        "from google.colab import files  # Importa il modulo files per scaricare file da Colab\n",
        "import shutil  # Importa il modulo shutil per operazioni di file\n",
        "\n",
        "# Crea una cartella per i file audio\n",
        "output_path = 'download_music_py'  # Definisce il nome della cartella di output\n",
        "if not os.path.exists(output_path):  # Controlla se la cartella esiste già\n",
        "    os.makedirs(output_path)  # Se non esiste, crea la cartella\n",
        "else:\n",
        "    # Svuota la cartella se esiste\n",
        "    for filename in os.listdir(output_path):  # Elenca tutti i file nella cartella\n",
        "        file_path = os.path.join(output_path, filename)  # Costruisce il percorso completo del file\n",
        "        if os.path.isfile(file_path):  # Controlla se l'elemento è un file\n",
        "            os.remove(file_path)  # Elimina il file\n",
        "\n",
        "# Funzione per scaricare audio da un video di YouTube\n",
        "def download_youtube_audio(video_url):\n",
        "    ydl_opts = {\n",
        "        'format': 'bestaudio/best',  # Imposta il formato per scaricare il miglior audio disponibile\n",
        "        'postprocessors': [{  # Definisce il post-processore da utilizzare\n",
        "            'key': 'FFmpegExtractAudio',  # Usa FFmpeg per estrarre l'audio\n",
        "            'preferredcodec': 'mp3',  # Imposta il codec audio desiderato (MP3)\n",
        "            'preferredquality': '320',  # Imposta la qualità audio a 320 kbps\n",
        "        }],\n",
        "        'outtmpl': os.path.join(output_path, '%(title)s.%(ext)s'),  # Template per il nome del file di output\n",
        "    }\n",
        "\n",
        "    with yt_dlp.YoutubeDL(ydl_opts) as ydl:  # Inizializza yt-dlp con le opzioni definite\n",
        "        ydl.download([video_url])  # Scarica l'audio dal video fornito\n",
        "\n",
        "# Funzione per scaricare audio da una playlist di YouTube\n",
        "def download_youtube_playlist(playlist_url):\n",
        "    ydl_opts = {\n",
        "        'format': 'bestaudio/best',  # Imposta il formato per scaricare il miglior audio disponibile\n",
        "        'postprocessors': [{  # Definisce il post-processore da utilizzare\n",
        "            'key': 'FFmpegExtractAudio',  # Usa FFmpeg per estrarre l'audio\n",
        "            'preferredcodec': 'mp3',  # Imposta il codec audio desiderato (MP3)\n",
        "            'preferredquality': '320',  # Imposta la qualità audio a 320 kbps\n",
        "        }],\n",
        "        'outtmpl': os.path.join(output_path, '%(title)s.%(ext)s'),  # Template per il nome del file di output\n",
        "    }\n",
        "\n",
        "    with yt_dlp.YoutubeDL(ydl_opts) as ydl:  # Inizializza yt-dlp con le opzioni definite\n",
        "        ydl.download([playlist_url])  # Scarica l'audio dalla playlist fornita\n",
        "\n",
        "# Richiesta all'utente di inserire il link o la playlist\n",
        "video_or_playlist = input(\"Vuoi scaricare un video (1) o una playlist (2)? \")  # Chiede all'utente di scegliere\n",
        "if video_or_playlist == '1':  # Se l'utente sceglie un video\n",
        "    video_url = input(\"Inserisci il link del video di YouTube: \")  # Richiede l'URL del video\n",
        "    download_youtube_audio(video_url)  # Chiama la funzione per scaricare l'audio\n",
        "elif video_or_playlist == '2':  # Se l'utente sceglie una playlist\n",
        "    playlist_url = input(\"Inserisci il link della playlist di YouTube: \")  # Richiede l'URL della playlist\n",
        "    download_youtube_playlist(playlist_url)  # Chiama la funzione per scaricare l'audio\n",
        "else:  # Se l'input non è valido\n",
        "    print(\"Scelta non valida. Scegli 1 per video o 2 per playlist.\")  # Messaggio di errore\n",
        "\n",
        "# Comprimere la cartella in un file zip\n",
        "shutil.make_archive(output_path, 'zip', output_path)  # Crea un file ZIP della cartella di output\n",
        "\n",
        "# Scaricare il file zip\n",
        "files.download(output_path + '.zip')  # Avvia il download del file ZIP\n"
      ],
      "metadata": {
        "colab": {
          "base_uri": "https://localhost:8080/",
          "height": 486
        },
        "id": "oOdf5AqxcNwR",
        "outputId": "2f319cdc-0886-45b8-ebbf-e3036a22214f"
      },
      "execution_count": 2,
      "outputs": [
        {
          "output_type": "stream",
          "name": "stdout",
          "text": [
            "Requirement already satisfied: yt-dlp in /usr/local/lib/python3.10/dist-packages (2024.10.7)\n",
            "Requirement already satisfied: brotli in /usr/local/lib/python3.10/dist-packages (from yt-dlp) (1.1.0)\n",
            "Requirement already satisfied: certifi in /usr/local/lib/python3.10/dist-packages (from yt-dlp) (2024.8.30)\n",
            "Requirement already satisfied: mutagen in /usr/local/lib/python3.10/dist-packages (from yt-dlp) (1.47.0)\n",
            "Requirement already satisfied: pycryptodomex in /usr/local/lib/python3.10/dist-packages (from yt-dlp) (3.21.0)\n",
            "Requirement already satisfied: requests<3,>=2.32.2 in /usr/local/lib/python3.10/dist-packages (from yt-dlp) (2.32.3)\n",
            "Requirement already satisfied: urllib3<3,>=1.26.17 in /usr/local/lib/python3.10/dist-packages (from yt-dlp) (2.2.3)\n",
            "Requirement already satisfied: websockets>=13.0 in /usr/local/lib/python3.10/dist-packages (from yt-dlp) (13.1)\n",
            "Requirement already satisfied: charset-normalizer<4,>=2 in /usr/local/lib/python3.10/dist-packages (from requests<3,>=2.32.2->yt-dlp) (3.4.0)\n",
            "Requirement already satisfied: idna<4,>=2.5 in /usr/local/lib/python3.10/dist-packages (from requests<3,>=2.32.2->yt-dlp) (3.10)\n",
            "Reading package lists... Done\n",
            "Building dependency tree... Done\n",
            "Reading state information... Done\n",
            "ffmpeg is already the newest version (7:4.4.2-0ubuntu0.22.04.1).\n",
            "0 upgraded, 0 newly installed, 0 to remove and 49 not upgraded.\n",
            "Vuoi scaricare un video (1) o una playlist (2)? 1\n",
            "Inserisci il link del video di YouTube: https://youtu.be/xZYHehC7TVc?si=PQX-1LVwxP2ULNeL\n",
            "[youtube] Extracting URL: https://youtu.be/xZYHehC7TVc?si=PQX-1LVwxP2ULNeL\n",
            "[youtube] xZYHehC7TVc: Downloading webpage\n",
            "[youtube] xZYHehC7TVc: Downloading ios player API JSON\n",
            "[youtube] xZYHehC7TVc: Downloading mweb player API JSON\n",
            "[youtube] xZYHehC7TVc: Downloading m3u8 information\n",
            "[info] xZYHehC7TVc: Downloading 1 format(s): 251\n",
            "[download] Destination: download_music_py/Post Malone - I Like You (A Happier Song) w. Doja Cat [Official Lyric Video].webm\n",
            "[download] 100% of    3.24MiB in 00:00:00 at 19.90MiB/s  \n",
            "[ExtractAudio] Destination: download_music_py/Post Malone - I Like You (A Happier Song) w. Doja Cat [Official Lyric Video].mp3\n",
            "Deleting original file download_music_py/Post Malone - I Like You (A Happier Song) w. Doja Cat [Official Lyric Video].webm (pass -k to keep)\n"
          ]
        },
        {
          "output_type": "display_data",
          "data": {
            "text/plain": [
              "<IPython.core.display.Javascript object>"
            ],
            "application/javascript": [
              "\n",
              "    async function download(id, filename, size) {\n",
              "      if (!google.colab.kernel.accessAllowed) {\n",
              "        return;\n",
              "      }\n",
              "      const div = document.createElement('div');\n",
              "      const label = document.createElement('label');\n",
              "      label.textContent = `Downloading \"${filename}\": `;\n",
              "      div.appendChild(label);\n",
              "      const progress = document.createElement('progress');\n",
              "      progress.max = size;\n",
              "      div.appendChild(progress);\n",
              "      document.body.appendChild(div);\n",
              "\n",
              "      const buffers = [];\n",
              "      let downloaded = 0;\n",
              "\n",
              "      const channel = await google.colab.kernel.comms.open(id);\n",
              "      // Send a message to notify the kernel that we're ready.\n",
              "      channel.send({})\n",
              "\n",
              "      for await (const message of channel.messages) {\n",
              "        // Send a message to notify the kernel that we're ready.\n",
              "        channel.send({})\n",
              "        if (message.buffers) {\n",
              "          for (const buffer of message.buffers) {\n",
              "            buffers.push(buffer);\n",
              "            downloaded += buffer.byteLength;\n",
              "            progress.value = downloaded;\n",
              "          }\n",
              "        }\n",
              "      }\n",
              "      const blob = new Blob(buffers, {type: 'application/binary'});\n",
              "      const a = document.createElement('a');\n",
              "      a.href = window.URL.createObjectURL(blob);\n",
              "      a.download = filename;\n",
              "      div.appendChild(a);\n",
              "      a.click();\n",
              "      div.remove();\n",
              "    }\n",
              "  "
            ]
          },
          "metadata": {}
        },
        {
          "output_type": "display_data",
          "data": {
            "text/plain": [
              "<IPython.core.display.Javascript object>"
            ],
            "application/javascript": [
              "download(\"download_fb9d8c5e-69f5-489f-96ad-d6e142a76e7a\", \"download_music_py.zip\", 7683491)"
            ]
          },
          "metadata": {}
        }
      ]
    }
  ]
}