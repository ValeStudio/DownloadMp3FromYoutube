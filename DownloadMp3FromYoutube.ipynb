{
  "nbformat": 4,
  "nbformat_minor": 0,
  "metadata": {
    "colab": {
      "provenance": []
    },
    "kernelspec": {
      "name": "python3",
      "display_name": "Python 3"
    },
    "language_info": {
      "name": "python"
    }
  },
  "cells": [
    {
      "cell_type": "code",
      "source": [
        "# Installa yt-dlp e ffmpeg in Google Colab\n",
        "!pip install yt-dlp  # Installa la libreria yt-dlp per il download di video e audio\n",
        "!apt-get install ffmpeg  # Installa ffmpeg, necessario per la manipolazione audio/video\n",
        "\n",
        "import os  # Importa il modulo os per operazioni di sistema\n",
        "import yt_dlp  # Importa la libreria yt_dlp per il download\n",
        "from google.colab import files  # Importa il modulo files per scaricare file da Colab\n",
        "import shutil  # Importa il modulo shutil per operazioni di file\n",
        "\n",
        "# Crea una cartella per i file audio\n",
        "output_path = 'download_music_py'  # Definisce il nome della cartella di output\n",
        "if not os.path.exists(output_path):  # Controlla se la cartella esiste già\n",
        "    os.makedirs(output_path)  # Se non esiste, crea la cartella\n",
        "else:\n",
        "    # Svuota la cartella se esiste\n",
        "    for filename in os.listdir(output_path):  # Elenca tutti i file nella cartella\n",
        "        file_path = os.path.join(output_path, filename)  # Costruisce il percorso completo del file\n",
        "        if os.path.isfile(file_path):  # Controlla se l'elemento è un file\n",
        "            os.remove(file_path)  # Elimina il file\n",
        "\n",
        "# Funzione per scaricare audio da un video di YouTube\n",
        "def download_youtube_audio(video_url):\n",
        "    ydl_opts = {\n",
        "        'format': 'bestaudio/best',  # Imposta il formato per scaricare il miglior audio disponibile\n",
        "        'postprocessors': [{  # Definisce il post-processore da utilizzare\n",
        "            'key': 'FFmpegExtractAudio',  # Usa FFmpeg per estrarre l'audio\n",
        "            'preferredcodec': 'mp3',  # Imposta il codec audio desiderato (MP3)\n",
        "            'preferredquality': '320',  # Imposta la qualità audio a 320 kbps\n",
        "        }],\n",
        "        'outtmpl': os.path.join(output_path, '%(title)s.%(ext)s'),  # Template per il nome del file di output\n",
        "    }\n",
        "\n",
        "    with yt_dlp.YoutubeDL(ydl_opts) as ydl:  # Inizializza yt-dlp con le opzioni definite\n",
        "        ydl.download([video_url])  # Scarica l'audio dal video fornito\n",
        "\n",
        "# Funzione per scaricare audio da una playlist di YouTube\n",
        "def download_youtube_playlist(playlist_url):\n",
        "    ydl_opts = {\n",
        "        'format': 'bestaudio/best',  # Imposta il formato per scaricare il miglior audio disponibile\n",
        "        'postprocessors': [{  # Definisce il post-processore da utilizzare\n",
        "            'key': 'FFmpegExtractAudio',  # Usa FFmpeg per estrarre l'audio\n",
        "            'preferredcodec': 'mp3',  # Imposta il codec audio desiderato (MP3)\n",
        "            'preferredquality': '320',  # Imposta la qualità audio a 320 kbps\n",
        "        }],\n",
        "        'outtmpl': os.path.join(output_path, '%(title)s.%(ext)s'),  # Template per il nome del file di output\n",
        "    }\n",
        "\n",
        "    with yt_dlp.YoutubeDL(ydl_opts) as ydl:  # Inizializza yt-dlp con le opzioni definite\n",
        "        ydl.download([playlist_url])  # Scarica l'audio dalla playlist fornita\n",
        "\n",
        "# Richiesta all'utente di inserire il link o la playlist\n",
        "video_or_playlist = input(\"Vuoi scaricare un video (1) o una playlist (2)? \")  # Chiede all'utente di scegliere\n",
        "if video_or_playlist == '1':  # Se l'utente sceglie un video\n",
        "    video_url = input(\"Inserisci il link del video di YouTube: \")  # Richiede l'URL del video\n",
        "    download_youtube_audio(video_url)  # Chiama la funzione per scaricare l'audio\n",
        "elif video_or_playlist == '2':  # Se l'utente sceglie una playlist\n",
        "    playlist_url = input(\"Inserisci il link della playlist di YouTube: \")  # Richiede l'URL della playlist\n",
        "    download_youtube_playlist(playlist_url)  # Chiama la funzione per scaricare l'audio\n",
        "else:  # Se l'input non è valido\n",
        "    print(\"Scelta non valida. Scegli 1 per video o 2 per playlist.\")  # Messaggio di errore\n",
        "\n",
        "# Comprimere la cartella in un file zip\n",
        "shutil.make_archive(output_path, 'zip', output_path)  # Crea un file ZIP della cartella di output\n",
        "\n",
        "# Scaricare il file zip\n",
        "files.download(output_path + '.zip')  # Avvia il download del file ZIP\n"
      ],
      "metadata": {
        "id": "oOdf5AqxcNwR"
      },
      "execution_count": null,
      "outputs": []
    }
  ]
}